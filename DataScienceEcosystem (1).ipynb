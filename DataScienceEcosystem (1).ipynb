{
 "cells": [
  {
   "cell_type": "markdown",
   "id": "459e5004-25d4-46af-b160-a6a6ed7f4a08",
   "metadata": {},
   "source": [
    "# Data Science Tools and Ecosystem "
   ]
  },
  {
   "cell_type": "markdown",
   "id": "39d8fa32-af48-4a47-98b2-9a08587cb071",
   "metadata": {},
   "source": [
    "In this notebook, Data Science Tools and Ecosystem are summarized."
   ]
  },
  {
   "cell_type": "markdown",
   "id": "7991f4d1-9e10-48c1-8b8c-63b45ac6301a",
   "metadata": {
    "tags": []
   },
   "source": [
    "**Objectives**\n",
    "- List popular languages for Data Science\n",
    "- List commonly used libraries for Data Science \n",
    "- List Three commonly used development environment open source tools in Data Science \n"
   ]
  },
  {
   "cell_type": "markdown",
   "id": "dfa1dce4-a774-4b3b-a7a3-7ed2bf744e1d",
   "metadata": {
    "tags": []
   },
   "source": [
    "## Author \n",
    "Wang Kefei "
   ]
  },
  {
   "cell_type": "markdown",
   "id": "c25b350f-b277-445c-aba5-718323ea4843",
   "metadata": {
    "tags": []
   },
   "source": [
    "Some of the popular languages that Data Scientists use are:\n",
    "1. Python\n",
    "2. R\n",
    "3. Scala"
   ]
  },
  {
   "cell_type": "markdown",
   "id": "818a7d11-c248-43e9-9500-77e5fa6a5fa0",
   "metadata": {},
   "source": [
    "Some of the commonly used libraries used by Data Scientists include:\n",
    "1. Pandas\n",
    "2. NumPy \n",
    "3. Matplotlib"
   ]
  },
  {
   "cell_type": "markdown",
   "id": "2b2de628-491e-4358-a1a9-5e48f75a9b38",
   "metadata": {
    "tags": []
   },
   "source": [
    "|Data Science Tools|\n",
    "|------------------|\n",
    "|Anaconda|\n",
    "|Jupyter Notebooks|\n",
    "|PyCharm|"
   ]
  },
  {
   "cell_type": "markdown",
   "id": "13262dc2-5a19-4c6c-ad5d-e676e61d0613",
   "metadata": {},
   "source": [
    "### Below are a few examples of evaluating arithmetic expressions in Python\n",
    "This a simple arithmetic expression to mutiply then add integers:"
   ]
  },
  {
   "cell_type": "code",
   "execution_count": 2,
   "id": "b541400d-20ff-4a13-b5b7-d4d177d87c34",
   "metadata": {
    "tags": []
   },
   "outputs": [
    {
     "data": {
      "text/plain": [
       "17"
      ]
     },
     "execution_count": 2,
     "metadata": {},
     "output_type": "execute_result"
    }
   ],
   "source": [
    "(3*4)+5"
   ]
  },
  {
   "cell_type": "markdown",
   "id": "1cf82c0f-9343-41ed-a032-be9f5cf84fcb",
   "metadata": {
    "tags": []
   },
   "source": [
    "This will convert 200 minutes to hours by diving by 60"
   ]
  },
  {
   "cell_type": "code",
   "execution_count": 3,
   "id": "2367a820-9415-41c7-beaf-4aa476465ded",
   "metadata": {
    "tags": []
   },
   "outputs": [
    {
     "data": {
      "text/plain": [
       "3.3333333333333335"
      ]
     },
     "execution_count": 3,
     "metadata": {},
     "output_type": "execute_result"
    }
   ],
   "source": [
    "minutes = 200\n",
    "hours = 60\n",
    "minutes / hours"
   ]
  }
 ],
 "metadata": {
  "kernelspec": {
   "display_name": "Python",
   "language": "python",
   "name": "conda-env-python-py"
  },
  "language_info": {
   "codemirror_mode": {
    "name": "ipython",
    "version": 3
   },
   "file_extension": ".py",
   "mimetype": "text/x-python",
   "name": "python",
   "nbconvert_exporter": "python",
   "pygments_lexer": "ipython3",
   "version": "3.7.12"
  }
 },
 "nbformat": 4,
 "nbformat_minor": 5
}
